{
 "cells": [
  {
   "cell_type": "markdown",
   "source": [
    "## Multiple linear regression\r\n",
    "This consists of predicting the target value with multiple regressors. Each of them has an regression coefficient. It is often used as **empirical model** or approximation function because the true functional relational between the y and X are unknown.\r\n",
    "\r\n",
    "The multiple linear regression can analyze more complexe models:\r\n",
    "- The **quadratic or cubic** polynomial model can also be analyzed with Multiple Linear regression by subsituting. \r\n",
    "- The models with **interaction effects**\r\n",
    "\r\n",
    "If the models' parameters is linear, regardless of the surface it generates, it can be seen as an Linear regression model.\r\n",
    "\r\n",
    "$$\r\n",
    "\\textbf{X} = \\begin{bmatrix}\r\n",
    "1 & x_{11} & .. & x_{1p}\\\\\r\n",
    "1 & x_{21} & .. & x_{2p} \\\\\r\n",
    " & ... &  & \\\\\r\n",
    "1 & x_{n1} & .. & x_{np}\\\\\r\n",
    "\\end{bmatrix}\r\n",
    "$$\r\n",
    "\r\n",
    "$$\r\n",
    "\\textbf{Y} = \\begin{bmatrix}\r\n",
    "y_1 \\\\\r\n",
    "y_2 \\\\\r\n",
    ".. \\\\\r\n",
    "y_n\r\n",
    "\\end{bmatrix}\r\n",
    "\r\n",
    "\\beta = \\begin{bmatrix}\r\n",
    "\\beta_1 \\\\\r\n",
    "\\beta_2 \\\\\r\n",
    ".. \\\\\r\n",
    "\\beta_p\r\n",
    "\\end{bmatrix}\r\n",
    "\r\n",
    "\\textbf{e} = \\begin{bmatrix}\r\n",
    "e_1 \\\\\r\n",
    "e_2 \\\\\r\n",
    ".. \\\\\r\n",
    "e_n\r\n",
    "\\end{bmatrix}\r\n",
    "$$\r\n",
    "\r\n",
    "If we use Least Square to fit the model. We intend to minize the $\\textbf{e}$.\r\n",
    "\r\n",
    "$$\r\n",
    "\\textbf{e}=Y - X\\beta \\\\\r\n",
    "S(\\beta) = e^{'}e \\\\\r\n",
    "\r\n",
    "$$\r\n",
    "\r\n",
    "We would differentiate $S(\\beta)$ by $\\beta$ we would get the least-squares equations\r\n",
    "\r\n",
    "$\r\n",
    "X'X\\hat{\\beta} = X'y \\\\\r\n",
    "\\hat{\\beta} = (X'X)^{-1}X'y \\\\\r\n",
    "$"
   ],
   "metadata": {}
  },
  {
   "cell_type": "code",
   "execution_count": 3,
   "source": [
    "import numpy as np\r\n",
    "from sklearn.datasets import make_regression\r\n",
    "\r\n",
    "X, y = make_regression(100, 4, noise=10)"
   ],
   "outputs": [],
   "metadata": {}
  },
  {
   "cell_type": "markdown",
   "source": [
    "## Hat matrix\r\n",
    "\r\n",
    "$$\r\n",
    "\\hat{y} = X\\hat{\\beta} \\\\\r\n",
    "= X(X'X)^{-1}X'y \r\n",
    "$$\r\n",
    "\r\n",
    "$H = X(X'X)^{-1}X'$ is the Hat matrix that map the true value into the predicted value."
   ],
   "metadata": {}
  },
  {
   "cell_type": "code",
   "execution_count": 25,
   "source": [
    "hat_matrix = np.matmul(np.matmul(X, np.linalg.inv(np.matmul(X.T, X))), X.T)\r\n",
    "hat_matrix.shape"
   ],
   "outputs": [
    {
     "output_type": "execute_result",
     "data": {
      "text/plain": [
       "(100, 100)"
      ]
     },
     "metadata": {},
     "execution_count": 25
    }
   ],
   "metadata": {}
  },
  {
   "cell_type": "code",
   "execution_count": 26,
   "source": [
    "prediction = np.matmul(hat_matrix , y)"
   ],
   "outputs": [],
   "metadata": {}
  },
  {
   "cell_type": "code",
   "execution_count": 28,
   "source": [
    "import matplotlib.pyplot as plt\r\n",
    "plt.scatter(prediction, y)"
   ],
   "outputs": [
    {
     "output_type": "execute_result",
     "data": {
      "text/plain": [
       "<matplotlib.collections.PathCollection at 0x2afb4fd7ac0>"
      ]
     },
     "metadata": {},
     "execution_count": 28
    },
    {
     "output_type": "display_data",
     "data": {
      "text/plain": [
       "<Figure size 432x288 with 1 Axes>"
      ],
      "image/svg+xml": "<?xml version=\"1.0\" encoding=\"utf-8\" standalone=\"no\"?>\r\n<!DOCTYPE svg PUBLIC \"-//W3C//DTD SVG 1.1//EN\"\r\n  \"http://www.w3.org/Graphics/SVG/1.1/DTD/svg11.dtd\">\r\n<svg height=\"248.518125pt\" version=\"1.1\" viewBox=\"0 0 383.667187 248.518125\" width=\"383.667187pt\" xmlns=\"http://www.w3.org/2000/svg\" xmlns:xlink=\"http://www.w3.org/1999/xlink\">\r\n <metadata>\r\n  <rdf:RDF xmlns:cc=\"http://creativecommons.org/ns#\" xmlns:dc=\"http://purl.org/dc/elements/1.1/\" xmlns:rdf=\"http://www.w3.org/1999/02/22-rdf-syntax-ns#\">\r\n   <cc:Work>\r\n    <dc:type rdf:resource=\"http://purl.org/dc/dcmitype/StillImage\"/>\r\n    <dc:date>2021-08-25T14:41:20.633143</dc:date>\r\n    <dc:format>image/svg+xml</dc:format>\r\n    <dc:creator>\r\n     <cc:Agent>\r\n      <dc:title>Matplotlib v3.4.3, https://matplotlib.org/</dc:title>\r\n     </cc:Agent>\r\n    </dc:creator>\r\n   </cc:Work>\r\n  </rdf:RDF>\r\n </metadata>\r\n <defs>\r\n  <style type=\"text/css\">*{stroke-linecap:butt;stroke-linejoin:round;}</style>\r\n </defs>\r\n <g id=\"figure_1\">\r\n  <g id=\"patch_1\">\r\n   <path d=\"M 0 248.518125 \r\nL 383.667187 248.518125 \r\nL 383.667187 0 \r\nL 0 0 \r\nz\r\n\" style=\"fill:none;\"/>\r\n  </g>\r\n  <g id=\"axes_1\">\r\n   <g id=\"patch_2\">\r\n    <path d=\"M 41.667188 224.64 \r\nL 376.467188 224.64 \r\nL 376.467188 7.2 \r\nL 41.667188 7.2 \r\nz\r\n\" style=\"fill:#ffffff;\"/>\r\n   </g>\r\n   <g id=\"PathCollection_1\">\r\n    <defs>\r\n     <path d=\"M 0 3 \r\nC 0.795609 3 1.55874 2.683901 2.12132 2.12132 \r\nC 2.683901 1.55874 3 0.795609 3 0 \r\nC 3 -0.795609 2.683901 -1.55874 2.12132 -2.12132 \r\nC 1.55874 -2.683901 0.795609 -3 0 -3 \r\nC -0.795609 -3 -1.55874 -2.683901 -2.12132 -2.12132 \r\nC -2.683901 -1.55874 -3 -0.795609 -3 0 \r\nC -3 0.795609 -2.683901 1.55874 -2.12132 2.12132 \r\nC -1.55874 2.683901 -0.795609 3 0 3 \r\nz\r\n\" id=\"m71b27585e9\" style=\"stroke:#1f77b4;\"/>\r\n    </defs>\r\n    <g clip-path=\"url(#pde51d9625f)\">\r\n     <use style=\"fill:#1f77b4;stroke:#1f77b4;\" x=\"127.34369\" xlink:href=\"#m71b27585e9\" y=\"171.761362\"/>\r\n     <use style=\"fill:#1f77b4;stroke:#1f77b4;\" x=\"239.95012\" xlink:href=\"#m71b27585e9\" y=\"97.9231\"/>\r\n     <use style=\"fill:#1f77b4;stroke:#1f77b4;\" x=\"255.854618\" xlink:href=\"#m71b27585e9\" y=\"87.487091\"/>\r\n     <use style=\"fill:#1f77b4;stroke:#1f77b4;\" x=\"236.331732\" xlink:href=\"#m71b27585e9\" y=\"96.642316\"/>\r\n     <use style=\"fill:#1f77b4;stroke:#1f77b4;\" x=\"114.580278\" xlink:href=\"#m71b27585e9\" y=\"181.465308\"/>\r\n     <use style=\"fill:#1f77b4;stroke:#1f77b4;\" x=\"361.249006\" xlink:href=\"#m71b27585e9\" y=\"17.083636\"/>\r\n     <use style=\"fill:#1f77b4;stroke:#1f77b4;\" x=\"143.962534\" xlink:href=\"#m71b27585e9\" y=\"158.037294\"/>\r\n     <use style=\"fill:#1f77b4;stroke:#1f77b4;\" x=\"271.493819\" xlink:href=\"#m71b27585e9\" y=\"78.570256\"/>\r\n     <use style=\"fill:#1f77b4;stroke:#1f77b4;\" x=\"326.388299\" xlink:href=\"#m71b27585e9\" y=\"42.894474\"/>\r\n     <use style=\"fill:#1f77b4;stroke:#1f77b4;\" x=\"183.404739\" xlink:href=\"#m71b27585e9\" y=\"132.06973\"/>\r\n     <use style=\"fill:#1f77b4;stroke:#1f77b4;\" x=\"251.426868\" xlink:href=\"#m71b27585e9\" y=\"94.624096\"/>\r\n     <use style=\"fill:#1f77b4;stroke:#1f77b4;\" x=\"170.849204\" xlink:href=\"#m71b27585e9\" y=\"144.086728\"/>\r\n     <use style=\"fill:#1f77b4;stroke:#1f77b4;\" x=\"170.535613\" xlink:href=\"#m71b27585e9\" y=\"135.583043\"/>\r\n     <use style=\"fill:#1f77b4;stroke:#1f77b4;\" x=\"142.059953\" xlink:href=\"#m71b27585e9\" y=\"160.630944\"/>\r\n     <use style=\"fill:#1f77b4;stroke:#1f77b4;\" x=\"179.937491\" xlink:href=\"#m71b27585e9\" y=\"139.465387\"/>\r\n     <use style=\"fill:#1f77b4;stroke:#1f77b4;\" x=\"213.316298\" xlink:href=\"#m71b27585e9\" y=\"115.695535\"/>\r\n     <use style=\"fill:#1f77b4;stroke:#1f77b4;\" x=\"216.902929\" xlink:href=\"#m71b27585e9\" y=\"111.057954\"/>\r\n     <use style=\"fill:#1f77b4;stroke:#1f77b4;\" x=\"151.182856\" xlink:href=\"#m71b27585e9\" y=\"155.106996\"/>\r\n     <use style=\"fill:#1f77b4;stroke:#1f77b4;\" x=\"177.650085\" xlink:href=\"#m71b27585e9\" y=\"134.30331\"/>\r\n     <use style=\"fill:#1f77b4;stroke:#1f77b4;\" x=\"191.338654\" xlink:href=\"#m71b27585e9\" y=\"127.218246\"/>\r\n     <use style=\"fill:#1f77b4;stroke:#1f77b4;\" x=\"104.419107\" xlink:href=\"#m71b27585e9\" y=\"178.82073\"/>\r\n     <use style=\"fill:#1f77b4;stroke:#1f77b4;\" x=\"327.96786\" xlink:href=\"#m71b27585e9\" y=\"41.780489\"/>\r\n     <use style=\"fill:#1f77b4;stroke:#1f77b4;\" x=\"160.548041\" xlink:href=\"#m71b27585e9\" y=\"148.427509\"/>\r\n     <use style=\"fill:#1f77b4;stroke:#1f77b4;\" x=\"154.008165\" xlink:href=\"#m71b27585e9\" y=\"146.992147\"/>\r\n     <use style=\"fill:#1f77b4;stroke:#1f77b4;\" x=\"104.461588\" xlink:href=\"#m71b27585e9\" y=\"190.19094\"/>\r\n     <use style=\"fill:#1f77b4;stroke:#1f77b4;\" x=\"207.405288\" xlink:href=\"#m71b27585e9\" y=\"116.446743\"/>\r\n     <use style=\"fill:#1f77b4;stroke:#1f77b4;\" x=\"112.335127\" xlink:href=\"#m71b27585e9\" y=\"180.286151\"/>\r\n     <use style=\"fill:#1f77b4;stroke:#1f77b4;\" x=\"198.09673\" xlink:href=\"#m71b27585e9\" y=\"117.862462\"/>\r\n     <use style=\"fill:#1f77b4;stroke:#1f77b4;\" x=\"209.473558\" xlink:href=\"#m71b27585e9\" y=\"114.012089\"/>\r\n     <use style=\"fill:#1f77b4;stroke:#1f77b4;\" x=\"221.890653\" xlink:href=\"#m71b27585e9\" y=\"111.280768\"/>\r\n     <use style=\"fill:#1f77b4;stroke:#1f77b4;\" x=\"133.43877\" xlink:href=\"#m71b27585e9\" y=\"165.032996\"/>\r\n     <use style=\"fill:#1f77b4;stroke:#1f77b4;\" x=\"199.348172\" xlink:href=\"#m71b27585e9\" y=\"126.041568\"/>\r\n     <use style=\"fill:#1f77b4;stroke:#1f77b4;\" x=\"102.570954\" xlink:href=\"#m71b27585e9\" y=\"182.105363\"/>\r\n     <use style=\"fill:#1f77b4;stroke:#1f77b4;\" x=\"239.808596\" xlink:href=\"#m71b27585e9\" y=\"97.375509\"/>\r\n     <use style=\"fill:#1f77b4;stroke:#1f77b4;\" x=\"70.486947\" xlink:href=\"#m71b27585e9\" y=\"203.28411\"/>\r\n     <use style=\"fill:#1f77b4;stroke:#1f77b4;\" x=\"189.097368\" xlink:href=\"#m71b27585e9\" y=\"134.029068\"/>\r\n     <use style=\"fill:#1f77b4;stroke:#1f77b4;\" x=\"192.516926\" xlink:href=\"#m71b27585e9\" y=\"132.609712\"/>\r\n     <use style=\"fill:#1f77b4;stroke:#1f77b4;\" x=\"167.009049\" xlink:href=\"#m71b27585e9\" y=\"141.439588\"/>\r\n     <use style=\"fill:#1f77b4;stroke:#1f77b4;\" x=\"199.26932\" xlink:href=\"#m71b27585e9\" y=\"113.775598\"/>\r\n     <use style=\"fill:#1f77b4;stroke:#1f77b4;\" x=\"176.609749\" xlink:href=\"#m71b27585e9\" y=\"142.803091\"/>\r\n     <use style=\"fill:#1f77b4;stroke:#1f77b4;\" x=\"217.66066\" xlink:href=\"#m71b27585e9\" y=\"116.953066\"/>\r\n     <use style=\"fill:#1f77b4;stroke:#1f77b4;\" x=\"85.731847\" xlink:href=\"#m71b27585e9\" y=\"190.987857\"/>\r\n     <use style=\"fill:#1f77b4;stroke:#1f77b4;\" x=\"136.51996\" xlink:href=\"#m71b27585e9\" y=\"162.206238\"/>\r\n     <use style=\"fill:#1f77b4;stroke:#1f77b4;\" x=\"221.168488\" xlink:href=\"#m71b27585e9\" y=\"120.525787\"/>\r\n     <use style=\"fill:#1f77b4;stroke:#1f77b4;\" x=\"121.840166\" xlink:href=\"#m71b27585e9\" y=\"171.984838\"/>\r\n     <use style=\"fill:#1f77b4;stroke:#1f77b4;\" x=\"187.689959\" xlink:href=\"#m71b27585e9\" y=\"133.226105\"/>\r\n     <use style=\"fill:#1f77b4;stroke:#1f77b4;\" x=\"117.207796\" xlink:href=\"#m71b27585e9\" y=\"177.102758\"/>\r\n     <use style=\"fill:#1f77b4;stroke:#1f77b4;\" x=\"119.415302\" xlink:href=\"#m71b27585e9\" y=\"175.376039\"/>\r\n     <use style=\"fill:#1f77b4;stroke:#1f77b4;\" x=\"245.229305\" xlink:href=\"#m71b27585e9\" y=\"90.319097\"/>\r\n     <use style=\"fill:#1f77b4;stroke:#1f77b4;\" x=\"236.010026\" xlink:href=\"#m71b27585e9\" y=\"106.538283\"/>\r\n     <use style=\"fill:#1f77b4;stroke:#1f77b4;\" x=\"142.12008\" xlink:href=\"#m71b27585e9\" y=\"158.498212\"/>\r\n     <use style=\"fill:#1f77b4;stroke:#1f77b4;\" x=\"171.994354\" xlink:href=\"#m71b27585e9\" y=\"142.710989\"/>\r\n     <use style=\"fill:#1f77b4;stroke:#1f77b4;\" x=\"136.778037\" xlink:href=\"#m71b27585e9\" y=\"160.003982\"/>\r\n     <use style=\"fill:#1f77b4;stroke:#1f77b4;\" x=\"56.885369\" xlink:href=\"#m71b27585e9\" y=\"214.756364\"/>\r\n     <use style=\"fill:#1f77b4;stroke:#1f77b4;\" x=\"275.033822\" xlink:href=\"#m71b27585e9\" y=\"76.732326\"/>\r\n     <use style=\"fill:#1f77b4;stroke:#1f77b4;\" x=\"214.063724\" xlink:href=\"#m71b27585e9\" y=\"117.303677\"/>\r\n     <use style=\"fill:#1f77b4;stroke:#1f77b4;\" x=\"90.41934\" xlink:href=\"#m71b27585e9\" y=\"192.58125\"/>\r\n     <use style=\"fill:#1f77b4;stroke:#1f77b4;\" x=\"208.095225\" xlink:href=\"#m71b27585e9\" y=\"119.953101\"/>\r\n     <use style=\"fill:#1f77b4;stroke:#1f77b4;\" x=\"208.504396\" xlink:href=\"#m71b27585e9\" y=\"126.690386\"/>\r\n     <use style=\"fill:#1f77b4;stroke:#1f77b4;\" x=\"100.322373\" xlink:href=\"#m71b27585e9\" y=\"186.246935\"/>\r\n     <use style=\"fill:#1f77b4;stroke:#1f77b4;\" x=\"197.913802\" xlink:href=\"#m71b27585e9\" y=\"129.461171\"/>\r\n     <use style=\"fill:#1f77b4;stroke:#1f77b4;\" x=\"342.720074\" xlink:href=\"#m71b27585e9\" y=\"37.137291\"/>\r\n     <use style=\"fill:#1f77b4;stroke:#1f77b4;\" x=\"104.183468\" xlink:href=\"#m71b27585e9\" y=\"190.765735\"/>\r\n     <use style=\"fill:#1f77b4;stroke:#1f77b4;\" x=\"174.838633\" xlink:href=\"#m71b27585e9\" y=\"138.624498\"/>\r\n     <use style=\"fill:#1f77b4;stroke:#1f77b4;\" x=\"208.08193\" xlink:href=\"#m71b27585e9\" y=\"112.128311\"/>\r\n     <use style=\"fill:#1f77b4;stroke:#1f77b4;\" x=\"103.386036\" xlink:href=\"#m71b27585e9\" y=\"186.482271\"/>\r\n     <use style=\"fill:#1f77b4;stroke:#1f77b4;\" x=\"217.104809\" xlink:href=\"#m71b27585e9\" y=\"115.803384\"/>\r\n     <use style=\"fill:#1f77b4;stroke:#1f77b4;\" x=\"111.087137\" xlink:href=\"#m71b27585e9\" y=\"179.066484\"/>\r\n     <use style=\"fill:#1f77b4;stroke:#1f77b4;\" x=\"98.874155\" xlink:href=\"#m71b27585e9\" y=\"189.716536\"/>\r\n     <use style=\"fill:#1f77b4;stroke:#1f77b4;\" x=\"149.831669\" xlink:href=\"#m71b27585e9\" y=\"156.321758\"/>\r\n     <use style=\"fill:#1f77b4;stroke:#1f77b4;\" x=\"132.245925\" xlink:href=\"#m71b27585e9\" y=\"163.407515\"/>\r\n     <use style=\"fill:#1f77b4;stroke:#1f77b4;\" x=\"284.732144\" xlink:href=\"#m71b27585e9\" y=\"64.565789\"/>\r\n     <use style=\"fill:#1f77b4;stroke:#1f77b4;\" x=\"246.114401\" xlink:href=\"#m71b27585e9\" y=\"96.941625\"/>\r\n     <use style=\"fill:#1f77b4;stroke:#1f77b4;\" x=\"104.082837\" xlink:href=\"#m71b27585e9\" y=\"183.191839\"/>\r\n     <use style=\"fill:#1f77b4;stroke:#1f77b4;\" x=\"122.281488\" xlink:href=\"#m71b27585e9\" y=\"174.101679\"/>\r\n     <use style=\"fill:#1f77b4;stroke:#1f77b4;\" x=\"128.97649\" xlink:href=\"#m71b27585e9\" y=\"165.183046\"/>\r\n     <use style=\"fill:#1f77b4;stroke:#1f77b4;\" x=\"252.347353\" xlink:href=\"#m71b27585e9\" y=\"88.055465\"/>\r\n     <use style=\"fill:#1f77b4;stroke:#1f77b4;\" x=\"175.377656\" xlink:href=\"#m71b27585e9\" y=\"130.759735\"/>\r\n     <use style=\"fill:#1f77b4;stroke:#1f77b4;\" x=\"177.800485\" xlink:href=\"#m71b27585e9\" y=\"134.096164\"/>\r\n     <use style=\"fill:#1f77b4;stroke:#1f77b4;\" x=\"191.314293\" xlink:href=\"#m71b27585e9\" y=\"128.301707\"/>\r\n     <use style=\"fill:#1f77b4;stroke:#1f77b4;\" x=\"196.342806\" xlink:href=\"#m71b27585e9\" y=\"122.99518\"/>\r\n     <use style=\"fill:#1f77b4;stroke:#1f77b4;\" x=\"199.951106\" xlink:href=\"#m71b27585e9\" y=\"123.66466\"/>\r\n     <use style=\"fill:#1f77b4;stroke:#1f77b4;\" x=\"259.190007\" xlink:href=\"#m71b27585e9\" y=\"75.963793\"/>\r\n     <use style=\"fill:#1f77b4;stroke:#1f77b4;\" x=\"222.032588\" xlink:href=\"#m71b27585e9\" y=\"110.646212\"/>\r\n     <use style=\"fill:#1f77b4;stroke:#1f77b4;\" x=\"102.779125\" xlink:href=\"#m71b27585e9\" y=\"176.736303\"/>\r\n     <use style=\"fill:#1f77b4;stroke:#1f77b4;\" x=\"150.687151\" xlink:href=\"#m71b27585e9\" y=\"148.436216\"/>\r\n     <use style=\"fill:#1f77b4;stroke:#1f77b4;\" x=\"233.283986\" xlink:href=\"#m71b27585e9\" y=\"107.921093\"/>\r\n     <use style=\"fill:#1f77b4;stroke:#1f77b4;\" x=\"177.794336\" xlink:href=\"#m71b27585e9\" y=\"145.475614\"/>\r\n     <use style=\"fill:#1f77b4;stroke:#1f77b4;\" x=\"240.845158\" xlink:href=\"#m71b27585e9\" y=\"95.865662\"/>\r\n     <use style=\"fill:#1f77b4;stroke:#1f77b4;\" x=\"148.630493\" xlink:href=\"#m71b27585e9\" y=\"155.689259\"/>\r\n     <use style=\"fill:#1f77b4;stroke:#1f77b4;\" x=\"199.039311\" xlink:href=\"#m71b27585e9\" y=\"126.18821\"/>\r\n     <use style=\"fill:#1f77b4;stroke:#1f77b4;\" x=\"143.39436\" xlink:href=\"#m71b27585e9\" y=\"158.810627\"/>\r\n     <use style=\"fill:#1f77b4;stroke:#1f77b4;\" x=\"228.685637\" xlink:href=\"#m71b27585e9\" y=\"109.723537\"/>\r\n     <use style=\"fill:#1f77b4;stroke:#1f77b4;\" x=\"254.231319\" xlink:href=\"#m71b27585e9\" y=\"84.119916\"/>\r\n     <use style=\"fill:#1f77b4;stroke:#1f77b4;\" x=\"99.803103\" xlink:href=\"#m71b27585e9\" y=\"188.771137\"/>\r\n     <use style=\"fill:#1f77b4;stroke:#1f77b4;\" x=\"78.638376\" xlink:href=\"#m71b27585e9\" y=\"198.500885\"/>\r\n     <use style=\"fill:#1f77b4;stroke:#1f77b4;\" x=\"316.065967\" xlink:href=\"#m71b27585e9\" y=\"47.029543\"/>\r\n     <use style=\"fill:#1f77b4;stroke:#1f77b4;\" x=\"252.925218\" xlink:href=\"#m71b27585e9\" y=\"94.374954\"/>\r\n     <use style=\"fill:#1f77b4;stroke:#1f77b4;\" x=\"269.695251\" xlink:href=\"#m71b27585e9\" y=\"74.649822\"/>\r\n     <use style=\"fill:#1f77b4;stroke:#1f77b4;\" x=\"135.492852\" xlink:href=\"#m71b27585e9\" y=\"169.79203\"/>\r\n    </g>\r\n   </g>\r\n   <g id=\"matplotlib.axis_1\">\r\n    <g id=\"xtick_1\">\r\n     <g id=\"line2d_1\">\r\n      <defs>\r\n       <path d=\"M 0 0 \r\nL 0 3.5 \r\n\" id=\"m5221dfacd1\" style=\"stroke:#000000;stroke-width:0.8;\"/>\r\n      </defs>\r\n      <g>\r\n       <use style=\"stroke:#000000;stroke-width:0.8;\" x=\"46.7792\" xlink:href=\"#m5221dfacd1\" y=\"224.64\"/>\r\n      </g>\r\n     </g>\r\n     <g id=\"text_1\">\r\n      <!-- −200 -->\r\n      <g transform=\"translate(33.045606 239.238438)scale(0.1 -0.1)\">\r\n       <defs>\r\n        <path d=\"M 678 2272 \r\nL 4684 2272 \r\nL 4684 1741 \r\nL 678 1741 \r\nL 678 2272 \r\nz\r\n\" id=\"DejaVuSans-2212\" transform=\"scale(0.015625)\"/>\r\n        <path d=\"M 1228 531 \r\nL 3431 531 \r\nL 3431 0 \r\nL 469 0 \r\nL 469 531 \r\nQ 828 903 1448 1529 \r\nQ 2069 2156 2228 2338 \r\nQ 2531 2678 2651 2914 \r\nQ 2772 3150 2772 3378 \r\nQ 2772 3750 2511 3984 \r\nQ 2250 4219 1831 4219 \r\nQ 1534 4219 1204 4116 \r\nQ 875 4013 500 3803 \r\nL 500 4441 \r\nQ 881 4594 1212 4672 \r\nQ 1544 4750 1819 4750 \r\nQ 2544 4750 2975 4387 \r\nQ 3406 4025 3406 3419 \r\nQ 3406 3131 3298 2873 \r\nQ 3191 2616 2906 2266 \r\nQ 2828 2175 2409 1742 \r\nQ 1991 1309 1228 531 \r\nz\r\n\" id=\"DejaVuSans-32\" transform=\"scale(0.015625)\"/>\r\n        <path d=\"M 2034 4250 \r\nQ 1547 4250 1301 3770 \r\nQ 1056 3291 1056 2328 \r\nQ 1056 1369 1301 889 \r\nQ 1547 409 2034 409 \r\nQ 2525 409 2770 889 \r\nQ 3016 1369 3016 2328 \r\nQ 3016 3291 2770 3770 \r\nQ 2525 4250 2034 4250 \r\nz\r\nM 2034 4750 \r\nQ 2819 4750 3233 4129 \r\nQ 3647 3509 3647 2328 \r\nQ 3647 1150 3233 529 \r\nQ 2819 -91 2034 -91 \r\nQ 1250 -91 836 529 \r\nQ 422 1150 422 2328 \r\nQ 422 3509 836 4129 \r\nQ 1250 4750 2034 4750 \r\nz\r\n\" id=\"DejaVuSans-30\" transform=\"scale(0.015625)\"/>\r\n       </defs>\r\n       <use xlink:href=\"#DejaVuSans-2212\"/>\r\n       <use x=\"83.789062\" xlink:href=\"#DejaVuSans-32\"/>\r\n       <use x=\"147.412109\" xlink:href=\"#DejaVuSans-30\"/>\r\n       <use x=\"211.035156\" xlink:href=\"#DejaVuSans-30\"/>\r\n      </g>\r\n     </g>\r\n    </g>\r\n    <g id=\"xtick_2\">\r\n     <g id=\"line2d_2\">\r\n      <g>\r\n       <use style=\"stroke:#000000;stroke-width:0.8;\" x=\"114.129893\" xlink:href=\"#m5221dfacd1\" y=\"224.64\"/>\r\n      </g>\r\n     </g>\r\n     <g id=\"text_2\">\r\n      <!-- −100 -->\r\n      <g transform=\"translate(100.396299 239.238438)scale(0.1 -0.1)\">\r\n       <defs>\r\n        <path d=\"M 794 531 \r\nL 1825 531 \r\nL 1825 4091 \r\nL 703 3866 \r\nL 703 4441 \r\nL 1819 4666 \r\nL 2450 4666 \r\nL 2450 531 \r\nL 3481 531 \r\nL 3481 0 \r\nL 794 0 \r\nL 794 531 \r\nz\r\n\" id=\"DejaVuSans-31\" transform=\"scale(0.015625)\"/>\r\n       </defs>\r\n       <use xlink:href=\"#DejaVuSans-2212\"/>\r\n       <use x=\"83.789062\" xlink:href=\"#DejaVuSans-31\"/>\r\n       <use x=\"147.412109\" xlink:href=\"#DejaVuSans-30\"/>\r\n       <use x=\"211.035156\" xlink:href=\"#DejaVuSans-30\"/>\r\n      </g>\r\n     </g>\r\n    </g>\r\n    <g id=\"xtick_3\">\r\n     <g id=\"line2d_3\">\r\n      <g>\r\n       <use style=\"stroke:#000000;stroke-width:0.8;\" x=\"181.480586\" xlink:href=\"#m5221dfacd1\" y=\"224.64\"/>\r\n      </g>\r\n     </g>\r\n     <g id=\"text_3\">\r\n      <!-- 0 -->\r\n      <g transform=\"translate(178.299336 239.238438)scale(0.1 -0.1)\">\r\n       <use xlink:href=\"#DejaVuSans-30\"/>\r\n      </g>\r\n     </g>\r\n    </g>\r\n    <g id=\"xtick_4\">\r\n     <g id=\"line2d_4\">\r\n      <g>\r\n       <use style=\"stroke:#000000;stroke-width:0.8;\" x=\"248.831279\" xlink:href=\"#m5221dfacd1\" y=\"224.64\"/>\r\n      </g>\r\n     </g>\r\n     <g id=\"text_4\">\r\n      <!-- 100 -->\r\n      <g transform=\"translate(239.287529 239.238438)scale(0.1 -0.1)\">\r\n       <use xlink:href=\"#DejaVuSans-31\"/>\r\n       <use x=\"63.623047\" xlink:href=\"#DejaVuSans-30\"/>\r\n       <use x=\"127.246094\" xlink:href=\"#DejaVuSans-30\"/>\r\n      </g>\r\n     </g>\r\n    </g>\r\n    <g id=\"xtick_5\">\r\n     <g id=\"line2d_5\">\r\n      <g>\r\n       <use style=\"stroke:#000000;stroke-width:0.8;\" x=\"316.181972\" xlink:href=\"#m5221dfacd1\" y=\"224.64\"/>\r\n      </g>\r\n     </g>\r\n     <g id=\"text_5\">\r\n      <!-- 200 -->\r\n      <g transform=\"translate(306.638222 239.238438)scale(0.1 -0.1)\">\r\n       <use xlink:href=\"#DejaVuSans-32\"/>\r\n       <use x=\"63.623047\" xlink:href=\"#DejaVuSans-30\"/>\r\n       <use x=\"127.246094\" xlink:href=\"#DejaVuSans-30\"/>\r\n      </g>\r\n     </g>\r\n    </g>\r\n   </g>\r\n   <g id=\"matplotlib.axis_2\">\r\n    <g id=\"ytick_1\">\r\n     <g id=\"line2d_6\">\r\n      <defs>\r\n       <path d=\"M 0 0 \r\nL -3.5 0 \r\n\" id=\"mb2670a4a1b\" style=\"stroke:#000000;stroke-width:0.8;\"/>\r\n      </defs>\r\n      <g>\r\n       <use style=\"stroke:#000000;stroke-width:0.8;\" x=\"41.667188\" xlink:href=\"#mb2670a4a1b\" y=\"220.66612\"/>\r\n      </g>\r\n     </g>\r\n     <g id=\"text_6\">\r\n      <!-- −200 -->\r\n      <g transform=\"translate(7.2 224.465339)scale(0.1 -0.1)\">\r\n       <use xlink:href=\"#DejaVuSans-2212\"/>\r\n       <use x=\"83.789062\" xlink:href=\"#DejaVuSans-32\"/>\r\n       <use x=\"147.412109\" xlink:href=\"#DejaVuSans-30\"/>\r\n       <use x=\"211.035156\" xlink:href=\"#DejaVuSans-30\"/>\r\n      </g>\r\n     </g>\r\n    </g>\r\n    <g id=\"ytick_2\">\r\n     <g id=\"line2d_7\">\r\n      <g>\r\n       <use style=\"stroke:#000000;stroke-width:0.8;\" x=\"41.667188\" xlink:href=\"#mb2670a4a1b\" y=\"177.967039\"/>\r\n      </g>\r\n     </g>\r\n     <g id=\"text_7\">\r\n      <!-- −100 -->\r\n      <g transform=\"translate(7.2 181.766258)scale(0.1 -0.1)\">\r\n       <use xlink:href=\"#DejaVuSans-2212\"/>\r\n       <use x=\"83.789062\" xlink:href=\"#DejaVuSans-31\"/>\r\n       <use x=\"147.412109\" xlink:href=\"#DejaVuSans-30\"/>\r\n       <use x=\"211.035156\" xlink:href=\"#DejaVuSans-30\"/>\r\n      </g>\r\n     </g>\r\n    </g>\r\n    <g id=\"ytick_3\">\r\n     <g id=\"line2d_8\">\r\n      <g>\r\n       <use style=\"stroke:#000000;stroke-width:0.8;\" x=\"41.667188\" xlink:href=\"#mb2670a4a1b\" y=\"135.267957\"/>\r\n      </g>\r\n     </g>\r\n     <g id=\"text_8\">\r\n      <!-- 0 -->\r\n      <g transform=\"translate(28.304688 139.067176)scale(0.1 -0.1)\">\r\n       <use xlink:href=\"#DejaVuSans-30\"/>\r\n      </g>\r\n     </g>\r\n    </g>\r\n    <g id=\"ytick_4\">\r\n     <g id=\"line2d_9\">\r\n      <g>\r\n       <use style=\"stroke:#000000;stroke-width:0.8;\" x=\"41.667188\" xlink:href=\"#mb2670a4a1b\" y=\"92.568876\"/>\r\n      </g>\r\n     </g>\r\n     <g id=\"text_9\">\r\n      <!-- 100 -->\r\n      <g transform=\"translate(15.579688 96.368095)scale(0.1 -0.1)\">\r\n       <use xlink:href=\"#DejaVuSans-31\"/>\r\n       <use x=\"63.623047\" xlink:href=\"#DejaVuSans-30\"/>\r\n       <use x=\"127.246094\" xlink:href=\"#DejaVuSans-30\"/>\r\n      </g>\r\n     </g>\r\n    </g>\r\n    <g id=\"ytick_5\">\r\n     <g id=\"line2d_10\">\r\n      <g>\r\n       <use style=\"stroke:#000000;stroke-width:0.8;\" x=\"41.667188\" xlink:href=\"#mb2670a4a1b\" y=\"49.869795\"/>\r\n      </g>\r\n     </g>\r\n     <g id=\"text_10\">\r\n      <!-- 200 -->\r\n      <g transform=\"translate(15.579688 53.669014)scale(0.1 -0.1)\">\r\n       <use xlink:href=\"#DejaVuSans-32\"/>\r\n       <use x=\"63.623047\" xlink:href=\"#DejaVuSans-30\"/>\r\n       <use x=\"127.246094\" xlink:href=\"#DejaVuSans-30\"/>\r\n      </g>\r\n     </g>\r\n    </g>\r\n   </g>\r\n   <g id=\"patch_3\">\r\n    <path d=\"M 41.667188 224.64 \r\nL 41.667188 7.2 \r\n\" style=\"fill:none;stroke:#000000;stroke-linecap:square;stroke-linejoin:miter;stroke-width:0.8;\"/>\r\n   </g>\r\n   <g id=\"patch_4\">\r\n    <path d=\"M 376.467188 224.64 \r\nL 376.467188 7.2 \r\n\" style=\"fill:none;stroke:#000000;stroke-linecap:square;stroke-linejoin:miter;stroke-width:0.8;\"/>\r\n   </g>\r\n   <g id=\"patch_5\">\r\n    <path d=\"M 41.667187 224.64 \r\nL 376.467188 224.64 \r\n\" style=\"fill:none;stroke:#000000;stroke-linecap:square;stroke-linejoin:miter;stroke-width:0.8;\"/>\r\n   </g>\r\n   <g id=\"patch_6\">\r\n    <path d=\"M 41.667187 7.2 \r\nL 376.467188 7.2 \r\n\" style=\"fill:none;stroke:#000000;stroke-linecap:square;stroke-linejoin:miter;stroke-width:0.8;\"/>\r\n   </g>\r\n  </g>\r\n </g>\r\n <defs>\r\n  <clipPath id=\"pde51d9625f\">\r\n   <rect height=\"217.44\" width=\"334.8\" x=\"41.667188\" y=\"7.2\"/>\r\n  </clipPath>\r\n </defs>\r\n</svg>\r\n",
      "image/png": "[encoded data removed]"
     },
     "metadata": {
      "needs_background": "light"
     }
    }
   ],
   "metadata": {}
  }
 ],
 "metadata": {
  "orig_nbformat": 4,
  "language_info": {
   "name": "python",
   "version": "3.8.5",
   "mimetype": "text/x-python",
   "codemirror_mode": {
    "name": "ipython",
    "version": 3
   },
   "pygments_lexer": "ipython3",
   "nbconvert_exporter": "python",
   "file_extension": ".py"
  },
  "kernelspec": {
   "name": "python3",
   "display_name": "Python 3.8.5 64-bit ('.venv': pipenv)"
  },
  "interpreter": {
   "hash": "b69273a56b6f3c0a2cc30c48eeb512cbf6ca9f7df4172298c5a601be2026e9d9"
  }
 },
 "nbformat": 4,
 "nbformat_minor": 2
}