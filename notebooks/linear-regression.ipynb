{
 "cells": [
  {
   "cell_type": "markdown",
   "source": [
    "# Simple Linear regression (Least-Square)\n",
    "\n",
    "In this notebook, I will do an exercise to practice my understanding of the Least-square linear regression.\n"
   ],
   "metadata": {}
  },
  {
   "cell_type": "code",
   "execution_count": 16,
   "source": [
    "from sklearn.datasets import make_regression\n",
    "\n",
    "X, y = make_regression(n_features=1, noise=0.5, bias=4) # type: ignore\n",
    "\n",
    "# The beta1 = SXY / SXX\n",
    "\n",
    "# The beta0 = mean(Y) - beta1 * mean(X)\n"
   ],
   "outputs": [],
   "metadata": {}
  },
  {
   "cell_type": "markdown",
   "source": [
    "$\n",
    "S_{xx} = \\sum{(x_i - \\bar{x})^2}\n",
    "$\n",
    "$\n",
    "S_{xy} = \\sum{(x_i - \\bar{x}) * y_i}\n",
    "$\n",
    "\n",
    "$\n",
    "\\beta_{1} = \\frac{S_{xy}}{S_{xx}}\n",
    "$\n",
    "\n"
   ],
   "metadata": {}
  },
  {
   "cell_type": "code",
   "execution_count": 18,
   "source": [
    "import matplotlib.pyplot as plt\n",
    "import matplotlib as mpl\n",
    "\n",
    "plt.scatter(X, y)\n"
   ],
   "outputs": [
    {
     "output_type": "execute_result",
     "data": {
      "text/plain": [
       "<matplotlib.collections.PathCollection at 0x12ea02fa0>"
      ]
     },
     "metadata": {},
     "execution_count": 18
    },
    {
     "output_type": "display_data",
     "data": {
      "text/plain": [
       "<Figure size 432x288 with 1 Axes>"
      ],
      "image/png": "[encoded data removed]"
     },
     "metadata": {
      "needs_background": "light"
     }
    }
   ],
   "metadata": {}
  },
  {
   "cell_type": "code",
   "execution_count": null,
   "source": [
    "# Calculate the Corrected sum of product of Xi\n",
    "\n",
    "# Sxx = Sum(Xi - mean(X))\n",
    "# Calculate the Corrected sum of cross product of Xi and Yi\n",
    "# SXy = Sum((Xi - mean(X)) * Yi)\n",
    "\n",
    "# The beta1 = SXY / SXX\n",
    "\n",
    "# The beta0 = mean(Y) - beta1 * mean(X)"
   ],
   "outputs": [],
   "metadata": {}
  },
  {
   "cell_type": "code",
   "execution_count": 41,
   "source": [
    "import numpy as np\n",
    "\n",
    "def simple_linear_regression(X, y):\n",
    "    Sxx = np.sum((X - np.mean(X)) ** 2)\n",
    "    Sxy = np.sum((X - np.mean(X)).ravel() * y)\n",
    "\n",
    "    beta1 = Sxy / Sxx\n",
    "\n",
    "    beta0 = np.mean(y) - beta1 * np.mean(X)\n",
    "\n",
    "    return (beta0, beta1, Sxx, Sxy)\n",
    "\n",
    "beta0, beta1, _, _ = simple_linear_regression(X, y)"
   ],
   "outputs": [],
   "metadata": {}
  },
  {
   "cell_type": "code",
   "execution_count": 47,
   "source": [
    "def plot_range(minx, maxx, beta0, beta1):\n",
    "    x = [minx, maxx]\n",
    "    y = [beta0 + minx * beta1, beta0 + maxx * beta1]\n",
    "    plt.plot(x, y, c='red')"
   ],
   "outputs": [],
   "metadata": {}
  },
  {
   "cell_type": "code",
   "execution_count": 49,
   "source": [
    "plt.title(\"Goodness of fit\")\n",
    "plt.scatter(X, y)\n",
    "plot_range(-2.5, 2.5, beta0, beta1)"
   ],
   "outputs": [
    {
     "output_type": "display_data",
     "data": {
      "text/plain": [
       "<Figure size 432x288 with 1 Axes>"
      ],
      "image/png": "[encoded data removed]"
     },
     "metadata": {
      "needs_background": "light"
     }
    }
   ],
   "metadata": {}
  },
  {
   "cell_type": "code",
   "execution_count": 57,
   "source": [
    "from sklearn.linear_model import LinearRegression\n",
    "\n",
    "lr = LinearRegression()\n",
    "lr.fit(X, y)"
   ],
   "outputs": [
    {
     "output_type": "execute_result",
     "data": {
      "text/plain": [
       "LinearRegression()"
      ]
     },
     "metadata": {},
     "execution_count": 57
    }
   ],
   "metadata": {}
  }
 ],
 "metadata": {
  "orig_nbformat": 4,
  "language_info": {
   "name": "python",
   "version": "3.9.6",
   "mimetype": "text/x-python",
   "codemirror_mode": {
    "name": "ipython",
    "version": 3
   },
   "pygments_lexer": "ipython3",
   "nbconvert_exporter": "python",
   "file_extension": ".py"
  },
  "kernelspec": {
   "name": "python3",
   "display_name": "Python 3.9.6 64-bit ('ILearnML-07DJWKHV': pipenv)"
  },
  "interpreter": {
   "hash": "a8fd4da3f27d7c9f4d67b822b60091218cde5e8bc29097ef15391088b32d3e05"
  }
 },
 "nbformat": 4,
 "nbformat_minor": 2
}